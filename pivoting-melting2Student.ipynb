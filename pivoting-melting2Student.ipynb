{
 "cells": [
  {
   "cell_type": "markdown",
   "metadata": {},
   "source": [
    "<img src=\"http://imgur.com/1ZcRyrc.png\" style=\"float: left; margin: 20px; height: 55px\">\n",
    "\n",
    "## `pandas` Long Format, Wide Format, Pivot Tables, and Melting\n",
    "_Instructor: Aymeric Flaisler_\n",
    "___\n",
    "<br>\n",
    "\n",
    "This lesson is all about **transforming data** using `pandas`. Data transformation is the reorganization of your data set's rows and columns into a different, potentially **more useful shape and format**. \n",
    "\n",
    "The benefits of transforming your data include **better access to relevant information** and **streamlined data manipulation**. As you become more familiar with data sets and their associated operations, you will develop an intuition and appreciation for when it's better to **work row-wise or column-wise**.\n",
    "\n",
    "Different data formats are better for different tasks. It takes time and experience to learn the distinctions. But, for now, we'll introduce the **common structures, transformations, and how to apply these transformations**.\n",
    "\n",
    "### Learning Objectives\n",
    "- Understand the differences between **long and wide format data**.\n",
    "- Understand **pivot tables**.\n",
    "- Practice transforming data between **long and wide** formats.\n",
    "- Practice creating pivot tables.\n",
    "- Learn how to avoid **common pitfalls and obstacles** in data transformation with `pandas`.\n"
   ]
  },
  {
   "cell_type": "code",
   "execution_count": null,
   "metadata": {},
   "outputs": [],
   "source": [
    "import numpy as np\n",
    "import scipy.stats as stats\n",
    "import seaborn as sns\n",
    "import matplotlib.pyplot as plt\n",
    "import pandas as pd\n",
    "pd.set_option('display.max_columns', None)\n",
    "\n",
    "sns.set_style('darkgrid')\n",
    "\n",
    "%config InlineBackend.figure_format = 'retina'\n",
    "%matplotlib inline"
   ]
  },
  {
   "cell_type": "markdown",
   "metadata": {},
   "source": [
    "<a id='load_nerdy'></a>\n",
    "\n",
    "### Load and Examine the \"Nerdy Personality Attributes\" Data Set\n",
    "\n",
    "---\n",
    "\n",
    "This is a pre-cleaned and modified version of the full \"Nerdy Personality Attributes\" survey, which asked subjects to rate themselves based on questions related to \"nerdiness\" as well as more general personality traits such as openness and extraversion. Researches also collected demographic information from the subjects.\n",
    "\n",
    "You can find the raw data [here](http://personality-testing.info/_rawdata/), along with many other sociological surveys.\n",
    "\n",
    "In this modified version, for the sake of our example, some of the subjects provided data for the survey but not the demographic variables. Because there are missing values and the data is \"messy,\" we have a data cleaning problem.\n",
    "\n",
    "**Load the data (which is in wide format).** "
   ]
  },
  {
   "cell_type": "code",
   "execution_count": null,
   "metadata": {},
   "outputs": [],
   "source": [
    "nerdy_wide_f = 'NPAS_parsed_trunc_wide_missing.csv'\n",
    "\n",
    "# load data and print the dimensions\n",
    "nerdy_wide = pd.read_csv(nerdy_wide_f)"
   ]
  },
  {
   "cell_type": "markdown",
   "metadata": {},
   "source": [
    "This data set is in a familiar format in which each column is a variable and each row contains an observation for that variable, corresponding to a distinct subject.\n",
    "\n",
    "*Wide format implies that all of the information for one distinct subject **will be represented in the columns corresponding to that row**. A single subject should not be represented in multiple rows of data.*"
   ]
  },
  {
   "cell_type": "code",
   "execution_count": null,
   "metadata": {},
   "outputs": [],
   "source": [
    "# First let's print the header:\n",
    "nerdy_wide.head()"
   ]
  },
  {
   "cell_type": "code",
   "execution_count": null,
   "metadata": {},
   "outputs": [],
   "source": [
    "nerdy_wide.shape"
   ]
  },
  {
   "cell_type": "markdown",
   "metadata": {},
   "source": [
    "**Check to see how many null values there are per column.**\n",
    "\n",
    "*Tips:* An easy way is to use the `.isnull()` method associated with the `.sum()`"
   ]
  },
  {
   "cell_type": "code",
   "execution_count": null,
   "metadata": {},
   "outputs": [],
   "source": [
    "# Now let's count the null values by column:\n",
    "nerdy_wide.isnull().sum()"
   ]
  },
  {
   "cell_type": "markdown",
   "metadata": {},
   "source": [
    "**Replace the missing `major` column values with `unknown`.**"
   ]
  },
  {
   "cell_type": "code",
   "execution_count": null,
   "metadata": {},
   "outputs": [],
   "source": [
    "# first create a mask for the missing values in the major column:\n",
    "#null_mask = nerdy_wide.major.isnull()\n",
    "# set missing values in major to \"unknown\":\n",
    "# nerdy_wide.loc[mask, 'major'] = 'unknown'\n",
    "nerdy_wide.major.fillna('unknown',inplace=True)"
   ]
  },
  {
   "cell_type": "code",
   "execution_count": null,
   "metadata": {},
   "outputs": [],
   "source": [
    "nerdy_wide.head()"
   ]
  },
  {
   "cell_type": "code",
   "execution_count": null,
   "metadata": {},
   "outputs": [],
   "source": [
    "# if all goes right you should not have any missing values left\n",
    "print (nerdy_wide.major.isnull().sum())"
   ]
  },
  {
   "cell_type": "markdown",
   "metadata": {},
   "source": [
    "<a id='long_format'></a>\n",
    "\n",
    "### Long Format Data\n",
    "\n",
    "\n",
    "\n",
    "**Load the long format of the same data below.**"
   ]
  },
  {
   "cell_type": "code",
   "execution_count": null,
   "metadata": {},
   "outputs": [],
   "source": [
    "nerdy_long_f = 'NPAS_parsed_trunc_long_missing.csv'\n",
    "\n",
    "# load long data and print the dimensions\n",
    "nerdy_long = pd.read_csv(nerdy_long_f)\n",
    "nerdy_long"
   ]
  },
  {
   "cell_type": "markdown",
   "metadata": {},
   "source": [
    "You can see that the long format data has far more rows than the wide data set but only three columns.\n",
    "\n",
    "Below you can view the three columns: `subject_id`, `variable`, and `value`.\n",
    "\n",
    "**`subject_id:`**\n",
    "- This is the primary \"key\" or `ID` column. Each `subject_id` will have corresponding entries in the `variable` column — one for each row.\n",
    "\n",
    "**`variable:`**\n",
    "- This column indicates the variable with which the item in the `value` column corresponds.\n",
    "\n",
    "**`value:`**\n",
    "\n",
    "- This contains all values for all variables for all IDs. Essentially, every cell in the wide data set except the `subject_id` is listed in this column."
   ]
  },
  {
   "cell_type": "code",
   "execution_count": null,
   "metadata": {},
   "outputs": [],
   "source": [
    "# print the header:\n",
    "nerdy_long.head(20)"
   ]
  },
  {
   "cell_type": "markdown",
   "metadata": {},
   "source": [
    "**Print out the unique values in the `variable` column.**\n",
    "\n",
    "You can see that the unique values in the `variable` column correspond to the column headers in the wide format data.\n",
    "\n",
    "*Tips: use the .unique() method*"
   ]
  },
  {
   "cell_type": "code",
   "execution_count": null,
   "metadata": {},
   "outputs": [],
   "source": [
    "# print the unique values in the variable column:\n",
    "nerdy_long.variable.unique()"
   ]
  },
  {
   "cell_type": "code",
   "execution_count": null,
   "metadata": {},
   "outputs": [],
   "source": [
    "# count the unique subject ids:\n",
    "len(nerdy_long.subject_id.unique())\n"
   ]
  },
  {
   "cell_type": "markdown",
   "metadata": {},
   "source": [
    "**Replace the missing values in `major` with `unknown` in the long format data set.**\n",
    "\n",
    "The process for replacing data will be different because of the format. Using logical selection masks with `pandas`' `.loc` syntax is the preferable way to do this."
   ]
  },
  {
   "cell_type": "code",
   "execution_count": null,
   "metadata": {},
   "outputs": [],
   "source": [
    "# Identify the missing values in major:\n",
    "sum(nerdy_long.value.isnull())"
   ]
  },
  {
   "cell_type": "code",
   "execution_count": null,
   "metadata": {},
   "outputs": [],
   "source": [
    "# replace the missing values for major in the long dataset with \"unknown\":\n",
    "major_mask = (nerdy_long.variable == 'major') & (nerdy_long.value.isnull())\n",
    "nerdy_long.loc[major_mask, 'value'] = 'unknown'"
   ]
  },
  {
   "cell_type": "code",
   "execution_count": null,
   "metadata": {},
   "outputs": [],
   "source": [
    "# check that there is no missing values left:\n",
    "print(nerdy_long[nerdy_long.variable == 'major'].isnull().sum())\n",
    "\n",
    "# you should get only 0s"
   ]
  },
  {
   "cell_type": "markdown",
   "metadata": {},
   "source": [
    "<a id='pivot_tables'></a>\n",
    "\n",
    "### `Pandas`' `.pivot_table()` Function: Long to Wide Format\n",
    "\n",
    "---\n",
    "\n",
    "The `pd.pivot_table()` function is a powerful tool for both transforming data from long to wide format as well as summarizing data with user-supplied functions.\n",
    "\n",
    "First, we'll look at transforming the long format data back into the wide format using the `.pivot_table()` function.\n",
    "\n",
    "**Important parameters for the `.pivot_table()` function include:**\n",
    "\n",
    "> The `pivot_table()` function takes a DataFrame to pivot as its first argument. \n",
    "    \n",
    "- **`columns`**: This is the list of columns in the long format data to be transformed back into columns in the wide format. After pivoting, each unique value in the long format column becomes a header in the wide format.\n",
    "- **`values`**: A single column indicating the values to use when pivoting and filling the new wide format columns.\n",
    "- **`index`**: Columns in the long format data that are index variables. These will be left as single columns, not spread out by unique value like in the `columns` parameter.\n",
    "- **`aggfunc`**: Often `.pivot_table()` is used to perform a summary of the data. `aggfunc` stands for \"aggregation function.\" It's required and defaults to `np.mean()`. You can also insert your own function, which we'll demonstrate below.\n",
    "- **`fill_value`**: If a cell is missing for the wide format data, this value will fill it in.\n",
    "    \n",
    "Next we'll put in our own function — `select_item_or_nan()` — to the `aggfunc` keyword argument. Because my `subject_id` column has a single variable value for each ID, I just want the single element in the long format value cell. My data is messy, so I have to write a function to check for places it could break. \n",
    "\n",
    "**Note:** Passed into my function, `x` will be a Series object. I pull out the first element of that using the `.iloc` indexer."
   ]
  },
  {
   "cell_type": "markdown",
   "metadata": {},
   "source": [
    "### Let's make sure value has only values:\n",
    "\n",
    "*Note: The lambda operator or lambda function is used for creating small, one-time and anonymous function objects in Python. This is not the object of this lesson. We will cover it at a later stage. Do not worry about understanding it for now.*"
   ]
  },
  {
   "cell_type": "code",
   "execution_count": null,
   "metadata": {},
   "outputs": [],
   "source": [
    "nerdy_long.shape\n"
   ]
  },
  {
   "cell_type": "code",
   "execution_count": null,
   "metadata": {},
   "outputs": [],
   "source": [
    "def is_float(s):\n",
    "    try:\n",
    "        float(s)\n",
    "        return True\n",
    "    except ValueError:\n",
    "        return False"
   ]
  },
  {
   "cell_type": "code",
   "execution_count": null,
   "metadata": {},
   "outputs": [],
   "source": [
    "# mask with true or false if we can convert to a numerical value\n",
    "mask = nerdy_long.value.map(lambda x: is_float(x))"
   ]
  },
  {
   "cell_type": "markdown",
   "metadata": {},
   "source": [
    "#### Now remove non numeric values using the mask"
   ]
  },
  {
   "cell_type": "code",
   "execution_count": null,
   "metadata": {},
   "outputs": [],
   "source": [
    "nerdy_long_only_num = nerdy_long[mask].copy()\n",
    "#nerdy_long_only_num.reset_index(drop=True, inplace=True)"
   ]
  },
  {
   "cell_type": "code",
   "execution_count": null,
   "metadata": {},
   "outputs": [],
   "source": [
    "nerdy_long_only_num"
   ]
  },
  {
   "cell_type": "code",
   "execution_count": null,
   "metadata": {},
   "outputs": [],
   "source": [
    "nerdy_long_only_num.dtypes"
   ]
  },
  {
   "cell_type": "markdown",
   "metadata": {},
   "source": [
    "#### Convert the column `value`  from the dataframe `nerdy_long_only_num` to float"
   ]
  },
  {
   "cell_type": "code",
   "execution_count": null,
   "metadata": {},
   "outputs": [],
   "source": [
    "# A:\n",
    "# nerdy_long_only_num['value'] = ...\n",
    "nerdy_long_only_num['value'] = nerdy_long_only_num.value.astype(float)"
   ]
  },
  {
   "cell_type": "code",
   "execution_count": null,
   "metadata": {},
   "outputs": [],
   "source": [
    "nerdy_long_only_num.dtypes"
   ]
  },
  {
   "cell_type": "markdown",
   "metadata": {},
   "source": [
    "#### Finally pivot the data on subject_id and variable using .pivot()"
   ]
  },
  {
   "cell_type": "code",
   "execution_count": null,
   "metadata": {},
   "outputs": [],
   "source": [
    "nerdy_long_only_num.pivot(index='subject_id', columns='variable')"
   ]
  },
  {
   "cell_type": "markdown",
   "metadata": {},
   "source": [
    "<a id='multiindex'></a>\n",
    "\n",
    "### MultiIndex/Hierarchical Indices in `pandas`\n",
    "\n",
    "---\n",
    "\n",
    "First, let's reload a fresh copy of the data:"
   ]
  },
  {
   "cell_type": "code",
   "execution_count": null,
   "metadata": {},
   "outputs": [],
   "source": [
    "# let's reload the data\n",
    "nerdy_long = pd.read_csv('nerdy_long.csv')\n",
    "nerdy_long.pivot(index='subject_id', columns='variable', values='value').head()"
   ]
  },
  {
   "cell_type": "code",
   "execution_count": null,
   "metadata": {},
   "outputs": [],
   "source": [
    "nerdy_long.info()"
   ]
  },
  {
   "cell_type": "code",
   "execution_count": null,
   "metadata": {},
   "outputs": [],
   "source": [
    "nerds_mind = nerdy_long.set_index(['subject_id', 'variable'])\n",
    "nerds_mind.info()\n"
   ]
  },
  {
   "cell_type": "code",
   "execution_count": null,
   "metadata": {},
   "outputs": [],
   "source": [
    "nerds_mind"
   ]
  },
  {
   "cell_type": "code",
   "execution_count": null,
   "metadata": {},
   "outputs": [],
   "source": [
    "nerds_mind.unstack().info()"
   ]
  },
  {
   "cell_type": "code",
   "execution_count": null,
   "metadata": {},
   "outputs": [],
   "source": [
    "nerds_mind"
   ]
  },
  {
   "cell_type": "code",
   "execution_count": null,
   "metadata": {},
   "outputs": [],
   "source": [
    "nerds_mind.unstack().stack().reset_index()\n"
   ]
  },
  {
   "cell_type": "code",
   "execution_count": null,
   "metadata": {},
   "outputs": [],
   "source": []
  }
 ],
 "metadata": {
  "kernelspec": {
   "display_name": "Python 3",
   "language": "python",
   "name": "python3"
  },
  "language_info": {
   "codemirror_mode": {
    "name": "ipython",
    "version": 3
   },
   "file_extension": ".py",
   "mimetype": "text/x-python",
   "name": "python",
   "nbconvert_exporter": "python",
   "pygments_lexer": "ipython3",
   "version": "3.6.7"
  },
  "toc": {
   "nav_menu": {},
   "number_sections": false,
   "sideBar": true,
   "skip_h1_title": false,
   "title_cell": "Table of Contents",
   "title_sidebar": "Contents",
   "toc_cell": false,
   "toc_position": {},
   "toc_section_display": true,
   "toc_window_display": false
  },
  "varInspector": {
   "cols": {
    "lenName": 16,
    "lenType": 16,
    "lenVar": 40
   },
   "kernels_config": {
    "python": {
     "delete_cmd_postfix": "",
     "delete_cmd_prefix": "del ",
     "library": "var_list.py",
     "varRefreshCmd": "print(var_dic_list())"
    },
    "r": {
     "delete_cmd_postfix": ") ",
     "delete_cmd_prefix": "rm(",
     "library": "var_list.r",
     "varRefreshCmd": "cat(var_dic_list()) "
    }
   },
   "types_to_exclude": [
    "module",
    "function",
    "builtin_function_or_method",
    "instance",
    "_Feature"
   ],
   "window_display": false
  }
 },
 "nbformat": 4,
 "nbformat_minor": 1
}
